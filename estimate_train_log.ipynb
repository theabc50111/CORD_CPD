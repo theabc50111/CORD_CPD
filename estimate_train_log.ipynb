{
 "cells": [
  {
   "cell_type": "code",
   "execution_count": null,
   "id": "9b23c0b4-d7da-46fc-bb7f-120251e6c4dc",
   "metadata": {},
   "outputs": [],
   "source": [
    "import numpy as np\n",
    "from pathlib import Path\n",
    "import re\n",
    "import matplotlib.pyplot as plt"
   ]
  },
  {
   "cell_type": "code",
   "execution_count": null,
   "id": "737a0ddd-53cf-4d62-ad4b-a2887a8d1c58",
   "metadata": {
    "tags": []
   },
   "outputs": [],
   "source": [
    "train_log_dir = Path(\"exp/rnn_gnn_no_fst_temp_enc_ywt_202304072334/\")\n",
    "train_log_f = train_log_dir / \"log.txt\"\n",
    "with open(train_log_f) as f:\n",
    "    log_text = f.read()\n",
    "\n",
    "record_fields = [\"acc_train\", \"acc_val\", \"delta_train\", \"delta_val\"]\n",
    "fig_title = [\"Train edge accuracy\", \"Valid edge accuracy\", \"Train correlation matrix l1-loss\", \"Valid correlation matrix l1-loss\"]\n",
    "data_info = list(map(lambda r, t: ([float(s) for s in re.findall(f\"(?<={r}: ).*?(?=,)\", log_text)], t), record_fields, fig_title))\n",
    "fig, axs = plt.subplot_mosaic(\"\"\"\n",
    "                              ab\n",
    "                              cd\n",
    "                              \"\"\",\n",
    "                              layout='constrained', figsize=(15, 10))\n",
    "\n",
    "\n",
    "\n",
    "for ax, (data, title) in zip(axs.values(), data_info):\n",
    "    ax.plot(data)\n",
    "    ax.set_title(title, fontsize=20)\n",
    "plt.show()\n",
    "plt.close()"
   ]
  },
  {
   "cell_type": "code",
   "execution_count": null,
   "id": "e456b116-999e-4ee1-a8d4-461bcdd6aa77",
   "metadata": {},
   "outputs": [],
   "source": []
  }
 ],
 "metadata": {
  "kernelspec": {
   "display_name": "Python 3 (ipykernel)",
   "language": "python",
   "name": "python3"
  },
  "language_info": {
   "codemirror_mode": {
    "name": "ipython",
    "version": 3
   },
   "file_extension": ".py",
   "mimetype": "text/x-python",
   "name": "python",
   "nbconvert_exporter": "python",
   "pygments_lexer": "ipython3",
   "version": "3.10.8"
  }
 },
 "nbformat": 4,
 "nbformat_minor": 5
}

{
 "cells": [
  {
   "cell_type": "code",
   "execution_count": null,
   "id": "9b23c0b4-d7da-46fc-bb7f-120251e6c4dc",
   "metadata": {},
   "outputs": [],
   "source": [
    "import numpy as np\n",
    "from pathlib import Path\n",
    "import re\n",
    "import matplotlib.pyplot as plt"
   ]
  },
  {
   "cell_type": "code",
   "execution_count": null,
   "id": "737a0ddd-53cf-4d62-ad4b-a2887a8d1c58",
   "metadata": {
    "tags": []
   },
   "outputs": [],
   "source": [
    "train_log_dir = Path(\"exp/tra_gnn_tra_mlp_ywt_202304100931/\")\n",
    "train_log_f = train_log_dir / \"log.txt\"\n",
    "with open(train_log_f) as f:\n",
    "    log_text = f.read()\n",
    "\n",
    "best_epoch = re.findall(\"(?<=Best Epoch: ).+\", log_text)[0]\n",
    "best_model_performance = re.sub(\",\\sepoch time:\\s\\d+\\.\\d+s\", \"\", re.findall(f\"(?<=Epoch: {best_epoch},).+\", log_text)[0])\n",
    "best_model_performance = re.sub(\",\\stotal time:\\s\\d+\\.\\d+s\", \"\", best_model_performance)\n",
    "model_name = train_log_dir.stem\n",
    "main_title = model_name + \"\\n\" + re.sub(\", roc:.+\", \"\", best_model_performance).rstrip(\"|| \").replace(\"||\", \"\\n\")\n",
    "print(best_epoch)\n",
    "print(best_model_performance)\n",
    "record_fields = [\"acc_train\", \"acc_val\", \"delta_train\", \"delta_val\", \"mse_train\", \"mse_val\", \"emb_train\", \"emb_val\"]\n",
    "fig_title = [\"Train edge accuracy\", \"Val edge accuracy\",\n",
    "             \"Train correlation matrix loss\", \"Val correlation matrix loss\",\n",
    "             \"Train nodes values matrix loss\", \"Val nodes values matrix loss\",\n",
    "             \"Train embedding disparity between spatial & temporal\", \"Val embedding disparity between spatial & temporal\"]\n",
    "data_info = list(map(lambda r, t: (np.array([float(s) for s in re.findall(f\"(?<={r}: ).*?(?=,)\", log_text)]), t), record_fields, fig_title))\n",
    "append_data_info = [(data_info[2][0] + data_info[4][0], \"Train total loss\"), (data_info[3][0] + data_info[5][0], \"Validation total loss\")]\n",
    "data_info += append_data_info\n",
    "data_info[-2], data_info[-1], data_info[6], data_info[7] = data_info[6], data_info[7], data_info[-2], data_info[-1]\n",
    "fig, axs = plt.subplot_mosaic(\"\"\"\n",
    "                              ab\n",
    "                              cd\n",
    "                              ef\n",
    "                              gh\n",
    "                              ij\n",
    "                              \"\"\",\n",
    "                              layout='constrained', figsize=(20, 25))\n",
    "fig.suptitle(main_title, fontsize=28)\n",
    "\n",
    "for ax, (data, title) in zip(axs.values(), data_info):\n",
    "    ax.plot(data)\n",
    "    ax.set_title(title, fontsize=20)\n",
    "plt.show()\n",
    "plt.close()"
   ]
  },
  {
   "cell_type": "code",
   "execution_count": null,
   "id": "e456b116-999e-4ee1-a8d4-461bcdd6aa77",
   "metadata": {},
   "outputs": [],
   "source": []
  }
 ],
 "metadata": {
  "kernelspec": {
   "display_name": "Python 3 (ipykernel)",
   "language": "python",
   "name": "python3"
  },
  "language_info": {
   "codemirror_mode": {
    "name": "ipython",
    "version": 3
   },
   "file_extension": ".py",
   "mimetype": "text/x-python",
   "name": "python",
   "nbconvert_exporter": "python",
   "pygments_lexer": "ipython3",
   "version": "3.10.8"
  }
 },
 "nbformat": 4,
 "nbformat_minor": 5
}
